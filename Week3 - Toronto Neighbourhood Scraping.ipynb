{
 "cells": [
  {
   "cell_type": "markdown",
   "metadata": {},
   "source": [
    "# Week 3 Assignment\n",
    "## Segmenting and Clustering Neighborhoods in Toronto"
   ]
  },
  {
   "cell_type": "markdown",
   "metadata": {},
   "source": [
    "#### Scrape neighbourhoods from Wikipedia "
   ]
  },
  {
   "cell_type": "code",
   "execution_count": 1,
   "metadata": {},
   "outputs": [],
   "source": [
    "import pandas as pd # library for data analysis\n",
    "import numpy as np\n",
    "import requests # library to handle requests\n",
    "from bs4 import BeautifulSoup # library to parse HTML documents"
   ]
  },
  {
   "cell_type": "code",
   "execution_count": 2,
   "metadata": {},
   "outputs": [
    {
     "name": "stdout",
     "output_type": "stream",
     "text": [
      "Wikipedia response status code:  200\n",
      "  PostalCode           Borough              Neighbourhood\n",
      "0        M1A      Not assigned               Not assigned\n",
      "1        M2A      Not assigned               Not assigned\n",
      "2        M3A        North York                  Parkwoods\n",
      "3        M4A        North York           Victoria Village\n",
      "4        M5A  Downtown Toronto  Regent Park, Harbourfront\n"
     ]
    }
   ],
   "source": [
    "# scrape from wikipedia\n",
    "wikiurl=\"https://en.wikipedia.org/wiki/List_of_postal_codes_of_Canada:_M\"\n",
    "table_class=\"wikitable sortable jquery-tablesorter\"\n",
    "response=requests.get(wikiurl)\n",
    "print(\"Wikipedia response status code: \", response.status_code)\n",
    "\n",
    "# parse data from the html into a beautifulsoup object\n",
    "soup = BeautifulSoup(response.text, 'html.parser')\n",
    "TorontoTable=soup.find('table',{'class':\"wikitable\"})\n",
    "\n",
    "# convert table into dataframe\n",
    "df=pd.read_html(str(TorontoTable))\n",
    "# convert list to dataframe\n",
    "df=pd.DataFrame(df[0])\n",
    "df=df.rename(columns = {'Postal Code':'PostalCode'})\n",
    "print(df.head())"
   ]
  },
  {
   "cell_type": "code",
   "execution_count": 3,
   "metadata": {},
   "outputs": [
    {
     "name": "stdout",
     "output_type": "stream",
     "text": [
      "Any unassigned Neighbourhoods left?  False\n",
      "Any duplicated PostalCodes left?  False\n",
      "  PostalCode           Borough                                Neighbourhood\n",
      "0        M3A        North York                                    Parkwoods\n",
      "1        M4A        North York                             Victoria Village\n",
      "2        M5A  Downtown Toronto                    Regent Park, Harbourfront\n",
      "3        M6A        North York             Lawrence Manor, Lawrence Heights\n",
      "4        M7A  Downtown Toronto  Queen's Park, Ontario Provincial Government\n"
     ]
    }
   ],
   "source": [
    "# remove unassigned boroughs\n",
    "df = df[df.Borough != 'Not assigned']\n",
    "# check if any neighbourhoods are unassigned\n",
    "print(\"Any unassigned Neighbourhoods left? \", any(df.Neighbourhood == 'Not assigned'))\n",
    "print(\"Any duplicated PostalCodes left? \", any(df.PostalCode.duplicated()))\n",
    "\n",
    "# reset index to start at zero\n",
    "df.reset_index(inplace = True, drop = True)\n",
    "\n",
    "print(df.head())"
   ]
  },
  {
   "cell_type": "code",
   "execution_count": 4,
   "metadata": {},
   "outputs": [
    {
     "name": "stdout",
     "output_type": "stream",
     "text": [
      "Dataframe rows and columns: (103, 3)\n"
     ]
    }
   ],
   "source": [
    "print(\"Dataframe rows and columns:\", df.shape)"
   ]
  },
  {
   "cell_type": "markdown",
   "metadata": {},
   "source": [
    "#### Add latitudes and longitudes to the neighbourhoods"
   ]
  },
  {
   "cell_type": "code",
   "execution_count": 5,
   "metadata": {},
   "outputs": [],
   "source": [
    "### Attempted to get lat&long using geocoder, but not getting any returns\n",
    "\n",
    "##conda install -c conda-forge geocoder\n",
    "#import geocoder # import geocoder\n",
    "#\n",
    "## define function that gets lat&long for a postal code\n",
    "#def get_latlong(postalcode):\n",
    "#    # initialize your variable to None\n",
    "#    lat_lng_coords = None\n",
    "#    \n",
    "#    # loop until you get the coordinates\n",
    "#    print (\"Working on post code: \", postalcode)\n",
    "#    while(lat_lng_coords is None):\n",
    "#        print (\"Trying geocoder\")\n",
    "#        g = geocoder.google('{}, Toronto, Ontario'.format(postalcode))\n",
    "#        lat_lng_coords = g.latlng\n",
    "#    latitude = lat_lng_coords[0]\n",
    "#    longitude = lat_lng_coords[1]\n",
    "#    return(latitude, longitude)\n",
    "#df['Latitude'], df['Longitude'] = zip(*df['PostalCode'].apply(get_latlong))\n",
    "#df.head()"
   ]
  },
  {
   "cell_type": "code",
   "execution_count": 6,
   "metadata": {},
   "outputs": [
    {
     "name": "stdout",
     "output_type": "stream",
     "text": [
      "  PostalCode   Latitude  Longitude\n",
      "0        M1B  43.806686 -79.194353\n",
      "1        M1C  43.784535 -79.160497\n",
      "2        M1E  43.763573 -79.188711\n",
      "3        M1G  43.770992 -79.216917\n",
      "4        M1H  43.773136 -79.239476\n"
     ]
    }
   ],
   "source": [
    "# Get lat&long from separately provided file\n",
    "latlong = pd.read_csv(\"https://cocl.us/Geospatial_data/Geospatial_Coordinates.csv\")\n",
    "latlong = latlong.rename(columns = {'Postal Code':'PostalCode'})\n",
    "print(latlong.head())"
   ]
  },
  {
   "cell_type": "code",
   "execution_count": 7,
   "metadata": {},
   "outputs": [
    {
     "name": "stdout",
     "output_type": "stream",
     "text": [
      "  PostalCode           Borough                                Neighbourhood  \\\n",
      "0        M3A        North York                                    Parkwoods   \n",
      "1        M4A        North York                             Victoria Village   \n",
      "2        M5A  Downtown Toronto                    Regent Park, Harbourfront   \n",
      "3        M6A        North York             Lawrence Manor, Lawrence Heights   \n",
      "4        M7A  Downtown Toronto  Queen's Park, Ontario Provincial Government   \n",
      "\n",
      "    Latitude  Longitude  \n",
      "0  43.753259 -79.329656  \n",
      "1  43.725882 -79.315572  \n",
      "2  43.654260 -79.360636  \n",
      "3  43.718518 -79.464763  \n",
      "4  43.662301 -79.389494  \n"
     ]
    }
   ],
   "source": [
    "# add lat&long to the neighbourhoods\n",
    "df = pd.merge(df, latlong, how='inner', on='PostalCode')\n",
    "print(df.head())"
   ]
  },
  {
   "cell_type": "code",
   "execution_count": 8,
   "metadata": {},
   "outputs": [
    {
     "name": "stdout",
     "output_type": "stream",
     "text": [
      "Dataframe rows and columns: (103, 5)\n"
     ]
    }
   ],
   "source": [
    "print(\"Dataframe rows and columns:\", df.shape)"
   ]
  }
 ],
 "metadata": {
  "kernelspec": {
   "display_name": "Python 3",
   "language": "python",
   "name": "python3"
  },
  "language_info": {
   "codemirror_mode": {
    "name": "ipython",
    "version": 3
   },
   "file_extension": ".py",
   "mimetype": "text/x-python",
   "name": "python",
   "nbconvert_exporter": "python",
   "pygments_lexer": "ipython3",
   "version": "3.8.5"
  }
 },
 "nbformat": 4,
 "nbformat_minor": 4
}
