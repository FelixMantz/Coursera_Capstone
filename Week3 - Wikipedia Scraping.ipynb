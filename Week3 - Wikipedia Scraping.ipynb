{
 "cells": [
  {
   "cell_type": "markdown",
   "metadata": {},
   "source": [
    "# Week 3 Assignment\n",
    "## Segmenting and Clustering Neighborhoods in Toronto"
   ]
  },
  {
   "cell_type": "markdown",
   "metadata": {},
   "source": [
    "#### Scrape neighbourhoods from Wikipedia "
   ]
  },
  {
   "cell_type": "code",
   "execution_count": 1,
   "metadata": {},
   "outputs": [],
   "source": [
    "import pandas as pd\n",
    "import numpy as np\n",
    "import requests # library to handle requests\n",
    "from bs4 import BeautifulSoup # library to parse HTML documents"
   ]
  },
  {
   "cell_type": "code",
   "execution_count": 2,
   "metadata": {},
   "outputs": [
    {
     "name": "stdout",
     "output_type": "stream",
     "text": [
      "Wikipedia response status code:  200\n",
      "  PostalCode           Borough              Neighbourhood\n",
      "0        M1A      Not assigned               Not assigned\n",
      "1        M2A      Not assigned               Not assigned\n",
      "2        M3A        North York                  Parkwoods\n",
      "3        M4A        North York           Victoria Village\n",
      "4        M5A  Downtown Toronto  Regent Park, Harbourfront\n"
     ]
    }
   ],
   "source": [
    "# scrape from wikipedia\n",
    "wikiurl=\"https://en.wikipedia.org/wiki/List_of_postal_codes_of_Canada:_M\"\n",
    "table_class=\"wikitable sortable jquery-tablesorter\"\n",
    "response=requests.get(wikiurl)\n",
    "print(\"Wikipedia response status code: \", response.status_code)\n",
    "\n",
    "# parse data from the html into a beautifulsoup object\n",
    "soup = BeautifulSoup(response.text, 'html.parser')\n",
    "TorontoTable=soup.find('table',{'class':\"wikitable\"})\n",
    "\n",
    "# convert table into dataframe\n",
    "df=pd.read_html(str(TorontoTable))\n",
    "# convert list to dataframe\n",
    "df=pd.DataFrame(df[0])\n",
    "df=df.rename(columns = {'Postal Code':'PostalCode'})\n",
    "print(df.head())"
   ]
  },
  {
   "cell_type": "code",
   "execution_count": 3,
   "metadata": {},
   "outputs": [
    {
     "name": "stdout",
     "output_type": "stream",
     "text": [
      "Any unassigned Neighbourhoods left?  False\n",
      "Any duplicated PostalCodes left?  False\n",
      "Stored 'df' (DataFrame)\n",
      "  PostalCode           Borough                                Neighbourhood\n",
      "0        M3A        North York                                    Parkwoods\n",
      "1        M4A        North York                             Victoria Village\n",
      "2        M5A  Downtown Toronto                    Regent Park, Harbourfront\n",
      "3        M6A        North York             Lawrence Manor, Lawrence Heights\n",
      "4        M7A  Downtown Toronto  Queen's Park, Ontario Provincial Government\n"
     ]
    }
   ],
   "source": [
    "# remove unassigned boroughs\n",
    "df = df[df.Borough != 'Not assigned']\n",
    "# check if any neighbourhoods are unassigned\n",
    "print(\"Any unassigned Neighbourhoods left? \", any(df.Neighbourhood == 'Not assigned'))\n",
    "print(\"Any duplicated PostalCodes left? \", any(df.PostalCode.duplicated()))\n",
    "\n",
    "# reset index to start at zero\n",
    "df.reset_index(inplace = True, drop = True)\n",
    "\n",
    "# save df to access it with other notebooks\n",
    "%store df\n",
    "\n",
    "print(df.head())"
   ]
  },
  {
   "cell_type": "code",
   "execution_count": 4,
   "metadata": {},
   "outputs": [
    {
     "name": "stdout",
     "output_type": "stream",
     "text": [
      "Dataframe rows and columns: (103, 3)\n"
     ]
    }
   ],
   "source": [
    "print(\"Dataframe rows and columns:\", df.shape)"
   ]
  }
 ],
 "metadata": {
  "kernelspec": {
   "display_name": "Python 3",
   "language": "python",
   "name": "python3"
  },
  "language_info": {
   "codemirror_mode": {
    "name": "ipython",
    "version": 3
   },
   "file_extension": ".py",
   "mimetype": "text/x-python",
   "name": "python",
   "nbconvert_exporter": "python",
   "pygments_lexer": "ipython3",
   "version": "3.8.5"
  }
 },
 "nbformat": 4,
 "nbformat_minor": 4
}
