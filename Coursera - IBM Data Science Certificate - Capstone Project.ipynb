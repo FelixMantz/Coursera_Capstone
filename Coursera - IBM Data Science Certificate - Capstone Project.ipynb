{
 "cells": [
  {
   "cell_type": "markdown",
   "metadata": {},
   "source": [
    "# Coursera datascience certificate \n",
    "# Capstone project: Battle of the Neighbourhoods\n",
    "#### This notebook is used primarily for the capstone project"
   ]
  },
  {
   "cell_type": "code",
   "execution_count": 4,
   "metadata": {},
   "outputs": [],
   "source": [
    "import pandas as pd\n",
    "import numpy as np"
   ]
  },
  {
   "cell_type": "code",
   "execution_count": 3,
   "metadata": {},
   "outputs": [
    {
     "name": "stdout",
     "output_type": "stream",
     "text": [
      "Hello Capstone Project Course\n"
     ]
    }
   ],
   "source": [
    "print(\"Hello Capstone Project Course\")"
   ]
  },
  {
   "cell_type": "code",
   "execution_count": 5,
   "metadata": {},
   "outputs": [
    {
     "ename": "SyntaxError",
     "evalue": "invalid syntax (<ipython-input-5-b44b1d8e90ed>, line 4)",
     "output_type": "error",
     "traceback": [
      "\u001b[1;36m  File \u001b[1;32m\"<ipython-input-5-b44b1d8e90ed>\"\u001b[1;36m, line \u001b[1;32m4\u001b[0m\n\u001b[1;33m    https://api.foursquare.com/v2/venues/client_id=JJRBC2IVQIWJSBV2QZIRRIP0E4I3RPAUR2BPQTGSB3RLYNQ1&client_secret=BYH2BP1SKA4QQMQ24J0NTZBMW0FF5HIN33C4KHHKL5EV3N2J&v=20180602&ll=40.73,-74.01&query=coffee\u001b[0m\n\u001b[1;37m          ^\u001b[0m\n\u001b[1;31mSyntaxError\u001b[0m\u001b[1;31m:\u001b[0m invalid syntax\n"
     ]
    }
   ],
   "source": [
    "ClientId = JJRBC2IVQIWJSBV2QZIRRIP0E4I3RPAUR2BPQTGSB3RLYNQ1\n",
    "ClientSecret = BYH2BP1SKA4QQMQ24J0NTZBMW0FF5HIN33C4KHHKL5EV3N2J\n",
    "Version = 20180602\n",
    "#https://api.foursquare.com/v2/venues/client_id=JJRBC2IVQIWJSBV2QZIRRIP0E4I3RPAUR2BPQTGSB3RLYNQ1&client_secret=BYH2BP1SKA4QQMQ24J0NTZBMW0FF5HIN33C4KHHKL5EV3N2J&v=20180602&ll=40.73,-74.01&query=coffee\n",
    "\n",
    "# https://api.foursquare.com/v2/venues/client_id=ClientId&client_secret=ClientSecret&v=20180602\n"
   ]
  },
  {
   "cell_type": "code",
   "execution_count": null,
   "metadata": {},
   "outputs": [],
   "source": []
  }
 ],
 "metadata": {
  "kernelspec": {
   "display_name": "Python 3",
   "language": "python",
   "name": "python3"
  },
  "language_info": {
   "codemirror_mode": {
    "name": "ipython",
    "version": 3
   },
   "file_extension": ".py",
   "mimetype": "text/x-python",
   "name": "python",
   "nbconvert_exporter": "python",
   "pygments_lexer": "ipython3",
   "version": "3.8.5"
  }
 },
 "nbformat": 4,
 "nbformat_minor": 4
}
